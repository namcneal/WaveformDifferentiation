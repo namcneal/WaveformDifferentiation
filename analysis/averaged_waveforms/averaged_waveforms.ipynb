{
 "cells": [
  {
   "cell_type": "code",
   "execution_count": 1,
   "metadata": {},
   "outputs": [],
   "source": [
    "#include \"qval_calculation_functions.h\""
   ]
  },
  {
   "cell_type": "code",
   "execution_count": 2,
   "metadata": {},
   "outputs": [
    {
     "name": "stdout",
     "output_type": "stream",
     "text": [
      "Read in the waveform file"
     ]
    }
   ],
   "source": [
    "string dataFolderPath = \"../data\",\n",
    "       dataFileName = \"take103\";\n",
    "\n",
    "string avgWaveformROOTFileName = dataFolderPath + \"/\" + dataFileName + \"_average_waveforms.root\";\n",
    "\n",
    "TFile * waveformFile = new TFile(avgWaveformROOTFileName.c_str(), \"READ\");\n",
    "    \n",
    "if(!waveformFile){\n",
    "    cout << \"Could not find/read the waveform file\";\n",
    "}\n",
    "\n",
    "cout << \"Read in the waveform file\";"
   ]
  },
  {
   "cell_type": "code",
   "execution_count": 3,
   "metadata": {},
   "outputs": [],
   "source": [
    "TProfile * avgNeutronWaveform = NULL,\n",
    "         * avgPhotonWaveform  = NULL;\n",
    "waveformFile->GetObject(\"hist_n_pfx\", avgNeutronWaveform);\n",
    "waveformFile->GetObject(\"hist_p_pfx\", avgPhotonWaveform);"
   ]
  },
  {
   "cell_type": "markdown",
   "metadata": {},
   "source": [
    "Analysis I: Vary the start of the integration region keeping the start of the region at 170 ns after the start of the signal.\n",
    "\n",
    "$$Q_{val}(t) = \\int_{170}^{t} $$"
   ]
  },
  {
   "cell_type": "code",
   "execution_count": 5,
   "metadata": {},
   "outputs": [
    {
     "name": "stderr",
     "output_type": "stream",
     "text": [
      "\u001b[1minput_line_38:4:5: \u001b[0m\u001b[0;1;31merror: \u001b[0m\u001b[1mredefinition of 'minTailStart'\u001b[0m\n",
      "int minTailStart = 10,\n",
      "\u001b[0;1;32m    ^\n",
      "\u001b[0m\u001b[1minput_line_36:4:5: \u001b[0m\u001b[0;1;30mnote: \u001b[0mprevious definition is here\u001b[0m\n",
      "int minTailStart = 10,\n",
      "\u001b[0;1;32m    ^\n",
      "\u001b[0m"
     ]
    }
   ],
   "source": [
    "#define numSteps 150\n",
    "\n",
    "int minTailStart = 10,\n",
    "    maxTailStart  = 100,\n",
    "    tailEnd      = 170;\n",
    "\n",
    "double stepSize = (maxTailStart - minTailStart) / numSteps;\n",
    "\n",
    "double tailStart = 0,\n",
    "       neutronQVal = 0,\n",
    "       photonQVal  = 0;\n",
    "\n",
    "double tailStartArray[numSteps],\n",
    "       neutronQValArray[numSteps],\n",
    "       photonQValArray[numSteps];\n",
    "\n",
    "int i = 0;\n",
    "for(tailStart = minTailStart; tailStart <= MaxTailStart; tailStart += stepSize){\n",
    "    \n",
    "    cout << i << endl;\n",
    "    calculateQVals(tailStart, tailEnd, avgNeutronWaveform, avgPhotonWaveform,\n",
    "                   neutronQVal, photonQVal);\n",
    "        \n",
    "    tailStartArray[i] = tailStart;\n",
    "    neutronQValArray[i] = neutronQVal;\n",
    "    photonQValArray[i]  = photonQVal;\n",
    "    \n",
    "    i++;\n",
    "}"
   ]
  },
  {
   "cell_type": "code",
   "execution_count": null,
   "metadata": {},
   "outputs": [],
   "source": []
  }
 ],
 "metadata": {
  "kernelspec": {
   "display_name": "ROOT C++",
   "language": "c++",
   "name": "root"
  },
  "language_info": {
   "codemirror_mode": "text/x-c++src",
   "file_extension": ".C",
   "mimetype": " text/x-c++src",
   "name": "c++"
  }
 },
 "nbformat": 4,
 "nbformat_minor": 2
}
