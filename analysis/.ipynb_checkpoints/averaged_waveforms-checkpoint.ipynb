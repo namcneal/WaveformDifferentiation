{
 "cells": [
  {
   "cell_type": "code",
   "execution_count": 3,
   "metadata": {},
   "outputs": [],
   "source": [
    "#include \"qval_calculation_functions.h\""
   ]
  },
  {
   "cell_type": "code",
   "execution_count": 1,
   "metadata": {},
   "outputs": [
    {
     "name": "stdout",
     "output_type": "stream",
     "text": [
      "(TFile *) 0x7f74040d5530\n"
     ]
    }
   ],
   "source": [
    "string dataFolderPath = \"../data\",\n",
    "       dataFileName = \"take103\";\n",
    "\n",
    "string avgWaveformROOTFileName = dataFolderPath + \"/\" + dataFileName + \"_average_waveforms.root\";\n",
    "\n",
    "TFile * waveformFile = new TFile(avgWaveformROOTFileName.c_str(), \"READ\")"
   ]
  },
  {
   "cell_type": "code",
   "execution_count": 2,
   "metadata": {},
   "outputs": [],
   "source": [
    "TProfile * avgNeutronWaveform = NULL,\n",
    "         * avgPhotonWaveform  =t NULL;\n",
    "waveformFile->GetObject(\"hist_n_pfx\", avgNeutronWaveform);\n",
    "waveformFile->GetObject(\"hist_p_pfx\", avgPhotonWaveform);\n",
    "\n"
   ]
  },
  {
   "cell_type": "markdown",
   "metadata": {},
   "source": [
    "Analysis I: Vary the start of the integration region keeping the start of the region at 170 ns after the start of the signal.\n",
    "\n",
    "$$Q_{val}(t) = \\int_{170}^{t} $$"
   ]
  },
  {
   "cell_type": "code",
   "execution_count": null,
   "metadata": {},
   "outputs": [],
   "source": [
    "const Int_t numSteps = 150,\n",
    "            minTailStart = 10,\n",
    "            maxTailStat  = 100,\n",
    "            tailEnd      = 170;\n",
    "\n",
    "double stepSize = (maxTailStart - minTailStart) / numSteps;\n",
    "\n",
    "double tailStart = 0,\n",
    "       neutronQVal = 0,\n",
    "       photonQVal  = 0;\n",
    "\n",
    "for(tailStart = minTailStart; tailStart <= MaxTailStart; tailStart += stepSize){\n",
    "    \n",
    "}"
   ]
  }
 ],
 "metadata": {
  "kernelspec": {
   "display_name": "ROOT C++",
   "language": "c++",
   "name": "root"
  },
  "language_info": {
   "codemirror_mode": "text/x-c++src",
   "file_extension": ".C",
   "mimetype": " text/x-c++src",
   "name": "c++"
  }
 },
 "nbformat": 4,
 "nbformat_minor": 2
}
